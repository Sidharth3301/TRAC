{
  "nbformat": 4,
  "nbformat_minor": 0,
  "metadata": {
    "colab": {
      "name": "cnn gspy",
      "provenance": [],
      "authorship_tag": "ABX9TyOOhjPS14y2z/U8rNYkJF7K",
      "include_colab_link": true
    },
    "kernelspec": {
      "name": "python3",
      "display_name": "Python 3"
    },
    "accelerator": "GPU"
  },
  "cells": [
    {
      "cell_type": "markdown",
      "metadata": {
        "id": "view-in-github",
        "colab_type": "text"
      },
      "source": [
        "<a href=\"https://colab.research.google.com/github/iamsidharthnair/TRAC/blob/master/cnn_gspy.ipynb\" target=\"_parent\"><img src=\"https://colab.research.google.com/assets/colab-badge.svg\" alt=\"Open In Colab\"/></a>"
      ]
    },
    {
      "cell_type": "code",
      "metadata": {
        "id": "FZe25f4PfoKw",
        "colab_type": "code",
        "colab": {}
      },
      "source": [
        "import matplotlib.pyplot as plt\n",
        "import numpy as np\n",
        "import os\n",
        "import PIL\n",
        "import tensorflow as tf\n",
        "\n",
        "from tensorflow import keras\n",
        "from tensorflow.keras import layers\n",
        "from tensorflow.keras.models import Sequential\n",
        "from IPython.display import Image, display"
      ],
      "execution_count": 1,
      "outputs": []
    },
    {
      "cell_type": "code",
      "metadata": {
        "id": "37aTKP9LX4Q5",
        "colab_type": "code",
        "colab": {
          "base_uri": "https://localhost:8080/",
          "height": 235
        },
        "outputId": "78a430d5-57ec-4a9a-be46-97e3f524ef44"
      },
      "source": [
        "!pip install kaggle\n"
      ],
      "execution_count": 2,
      "outputs": [
        {
          "output_type": "stream",
          "text": [
            "Requirement already satisfied: kaggle in /usr/local/lib/python3.6/dist-packages (1.5.8)\n",
            "Requirement already satisfied: certifi in /usr/local/lib/python3.6/dist-packages (from kaggle) (2020.6.20)\n",
            "Requirement already satisfied: tqdm in /usr/local/lib/python3.6/dist-packages (from kaggle) (4.41.1)\n",
            "Requirement already satisfied: python-dateutil in /usr/local/lib/python3.6/dist-packages (from kaggle) (2.8.1)\n",
            "Requirement already satisfied: slugify in /usr/local/lib/python3.6/dist-packages (from kaggle) (0.0.1)\n",
            "Requirement already satisfied: six>=1.10 in /usr/local/lib/python3.6/dist-packages (from kaggle) (1.15.0)\n",
            "Requirement already satisfied: urllib3<1.25,>=1.21.1 in /usr/local/lib/python3.6/dist-packages (from kaggle) (1.24.3)\n",
            "Requirement already satisfied: python-slugify in /usr/local/lib/python3.6/dist-packages (from kaggle) (4.0.1)\n",
            "Requirement already satisfied: requests in /usr/local/lib/python3.6/dist-packages (from kaggle) (2.23.0)\n",
            "Requirement already satisfied: text-unidecode>=1.3 in /usr/local/lib/python3.6/dist-packages (from python-slugify->kaggle) (1.3)\n",
            "Requirement already satisfied: chardet<4,>=3.0.2 in /usr/local/lib/python3.6/dist-packages (from requests->kaggle) (3.0.4)\n",
            "Requirement already satisfied: idna<3,>=2.5 in /usr/local/lib/python3.6/dist-packages (from requests->kaggle) (2.10)\n"
          ],
          "name": "stdout"
        }
      ]
    },
    {
      "cell_type": "code",
      "metadata": {
        "id": "H0grpksxYCUn",
        "colab_type": "code",
        "colab": {
          "resources": {
            "http://localhost:8080/nbextensions/google.colab/files.js": {
              "data": "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",
              "ok": true,
              "headers": [
                [
                  "content-type",
                  "application/javascript"
                ]
              ],
              "status": 200,
              "status_text": "OK"
            }
          },
          "base_uri": "https://localhost:8080/",
          "height": 92
        },
        "outputId": "cd8a064f-853f-4ead-9b49-ab931210f3f8"
      },
      "source": [
        "from google.colab import files\n",
        "files.upload()\n"
      ],
      "execution_count": 3,
      "outputs": [
        {
          "output_type": "display_data",
          "data": {
            "text/html": [
              "\n",
              "     <input type=\"file\" id=\"files-46178208-8e94-461d-9533-488dc9e234c9\" name=\"files[]\" multiple disabled\n",
              "        style=\"border:none\" />\n",
              "     <output id=\"result-46178208-8e94-461d-9533-488dc9e234c9\">\n",
              "      Upload widget is only available when the cell has been executed in the\n",
              "      current browser session. Please rerun this cell to enable.\n",
              "      </output>\n",
              "      <script src=\"/nbextensions/google.colab/files.js\"></script> "
            ],
            "text/plain": [
              "<IPython.core.display.HTML object>"
            ]
          },
          "metadata": {
            "tags": []
          }
        },
        {
          "output_type": "stream",
          "text": [
            "Saving kaggle.json to kaggle.json\n"
          ],
          "name": "stdout"
        },
        {
          "output_type": "execute_result",
          "data": {
            "text/plain": [
              "{'kaggle.json': b'{\"username\":\"witcher141\",\"key\":\"9c0d25de1928dc79c9874496d33bbce9\"}'}"
            ]
          },
          "metadata": {
            "tags": []
          },
          "execution_count": 3
        }
      ]
    },
    {
      "cell_type": "code",
      "metadata": {
        "id": "n1qkViBrYNnJ",
        "colab_type": "code",
        "colab": {}
      },
      "source": [
        "!mkdir -p ~/.kaggle\n",
        "!cp kaggle.json ~/.kaggle/\n",
        "!chmod 600 ~/.kaggle/kaggle.json\n"
      ],
      "execution_count": 4,
      "outputs": []
    },
    {
      "cell_type": "code",
      "metadata": {
        "id": "bt7WDUN9YmHS",
        "colab_type": "code",
        "colab": {
          "base_uri": "https://localhost:8080/",
          "height": 72
        },
        "outputId": "dc0d9de1-40c4-443e-ff42-2e68d648bf6a"
      },
      "source": [
        "\n",
        "\n",
        "!kaggle datasets download -d tentotheminus9/gravity-spy-gravitational-waves  --force"
      ],
      "execution_count": 5,
      "outputs": [
        {
          "output_type": "stream",
          "text": [
            "Downloading gravity-spy-gravitational-waves.zip to /content\n",
            "100% 3.89G/3.89G [02:18<00:00, 28.5MB/s]\n",
            "100% 3.89G/3.89G [02:18<00:00, 30.1MB/s]\n"
          ],
          "name": "stdout"
        }
      ]
    },
    {
      "cell_type": "code",
      "metadata": {
        "id": "Pk5cTLL4e-Hl",
        "colab_type": "code",
        "colab": {}
      },
      "source": [
        "import zipfile\n",
        "zip_ref = zipfile.ZipFile('gravity-spy-gravitational-waves.zip', 'r')\n",
        "zip_ref.extractall('files')\n",
        "zip_ref.close()"
      ],
      "execution_count": 6,
      "outputs": []
    },
    {
      "cell_type": "code",
      "metadata": {
        "id": "BlRtLkO8f_r5",
        "colab_type": "code",
        "colab": {}
      },
      "source": [
        "import os\n",
        "train_dir=os.path.join('files/train/train/')\n",
        "test_dir=os.path.join('files/test/test/')\n",
        "validation_dir=os.path.join('files/validation/validation/')"
      ],
      "execution_count": 7,
      "outputs": []
    },
    {
      "cell_type": "code",
      "metadata": {
        "id": "ArznZNvndzx9",
        "colab_type": "code",
        "colab": {
          "base_uri": "https://localhost:8080/",
          "height": 400
        },
        "outputId": "f7ecd5ff-6f9a-4b15-b948-3e00f9419a91"
      },
      "source": [
        "import pandas as pd\n",
        "\n",
        "df = pd.read_csv(\"files/trainingset_v1d1_metadata.csv\") \n",
        "df.head()"
      ],
      "execution_count": 8,
      "outputs": [
        {
          "output_type": "execute_result",
          "data": {
            "text/html": [
              "<div>\n",
              "<style scoped>\n",
              "    .dataframe tbody tr th:only-of-type {\n",
              "        vertical-align: middle;\n",
              "    }\n",
              "\n",
              "    .dataframe tbody tr th {\n",
              "        vertical-align: top;\n",
              "    }\n",
              "\n",
              "    .dataframe thead th {\n",
              "        text-align: right;\n",
              "    }\n",
              "</style>\n",
              "<table border=\"1\" class=\"dataframe\">\n",
              "  <thead>\n",
              "    <tr style=\"text-align: right;\">\n",
              "      <th></th>\n",
              "      <th>event_time</th>\n",
              "      <th>ifo</th>\n",
              "      <th>peak_time</th>\n",
              "      <th>peak_time_ns</th>\n",
              "      <th>start_time</th>\n",
              "      <th>start_time_ns</th>\n",
              "      <th>duration</th>\n",
              "      <th>search</th>\n",
              "      <th>process_id</th>\n",
              "      <th>event_id</th>\n",
              "      <th>peak_frequency</th>\n",
              "      <th>central_freq</th>\n",
              "      <th>bandwidth</th>\n",
              "      <th>channel</th>\n",
              "      <th>amplitude</th>\n",
              "      <th>snr</th>\n",
              "      <th>confidence</th>\n",
              "      <th>chisq</th>\n",
              "      <th>chisq_dof</th>\n",
              "      <th>param_one_name</th>\n",
              "      <th>param_one_value</th>\n",
              "      <th>gravityspy_id</th>\n",
              "      <th>label</th>\n",
              "      <th>sample_type</th>\n",
              "      <th>url1</th>\n",
              "      <th>url2</th>\n",
              "      <th>url3</th>\n",
              "      <th>url4</th>\n",
              "    </tr>\n",
              "  </thead>\n",
              "  <tbody>\n",
              "    <tr>\n",
              "      <th>0</th>\n",
              "      <td>1.134216e+09</td>\n",
              "      <td>L1</td>\n",
              "      <td>1134216192</td>\n",
              "      <td>931639909</td>\n",
              "      <td>1134216192</td>\n",
              "      <td>832031011</td>\n",
              "      <td>0.18750</td>\n",
              "      <td>Omicron</td>\n",
              "      <td>0</td>\n",
              "      <td>21</td>\n",
              "      <td>1337.695312</td>\n",
              "      <td>1120.043213</td>\n",
              "      <td>573.363953</td>\n",
              "      <td>GDS-CALIB_STRAIN</td>\n",
              "      <td>1.197650e-22</td>\n",
              "      <td>7.51139</td>\n",
              "      <td>0</td>\n",
              "      <td>0</td>\n",
              "      <td>0</td>\n",
              "      <td>phase</td>\n",
              "      <td>-2.72902</td>\n",
              "      <td>zmIdpucyOG</td>\n",
              "      <td>Whistle</td>\n",
              "      <td>train</td>\n",
              "      <td>https://panoptes-uploads.zooniverse.org/produc...</td>\n",
              "      <td>https://panoptes-uploads.zooniverse.org/produc...</td>\n",
              "      <td>https://panoptes-uploads.zooniverse.org/produc...</td>\n",
              "      <td>https://panoptes-uploads.zooniverse.org/produc...</td>\n",
              "    </tr>\n",
              "    <tr>\n",
              "      <th>1</th>\n",
              "      <td>1.129360e+09</td>\n",
              "      <td>L1</td>\n",
              "      <td>1129359781</td>\n",
              "      <td>558593034</td>\n",
              "      <td>1129359781</td>\n",
              "      <td>47851085</td>\n",
              "      <td>0.94238</td>\n",
              "      <td>Omicron</td>\n",
              "      <td>0</td>\n",
              "      <td>107</td>\n",
              "      <td>654.747681</td>\n",
              "      <td>1823.073364</td>\n",
              "      <td>3426.576416</td>\n",
              "      <td>GDS-CALIB_STRAIN</td>\n",
              "      <td>8.255850e-23</td>\n",
              "      <td>9.63013</td>\n",
              "      <td>0</td>\n",
              "      <td>0</td>\n",
              "      <td>0</td>\n",
              "      <td>phase</td>\n",
              "      <td>1.10682</td>\n",
              "      <td>zWFRqqDxwv</td>\n",
              "      <td>Whistle</td>\n",
              "      <td>test</td>\n",
              "      <td>https://panoptes-uploads.zooniverse.org/produc...</td>\n",
              "      <td>https://panoptes-uploads.zooniverse.org/produc...</td>\n",
              "      <td>https://panoptes-uploads.zooniverse.org/produc...</td>\n",
              "      <td>https://panoptes-uploads.zooniverse.org/produc...</td>\n",
              "    </tr>\n",
              "    <tr>\n",
              "      <th>2</th>\n",
              "      <td>1.127425e+09</td>\n",
              "      <td>L1</td>\n",
              "      <td>1127425468</td>\n",
              "      <td>976317882</td>\n",
              "      <td>1127425468</td>\n",
              "      <td>960937023</td>\n",
              "      <td>0.04688</td>\n",
              "      <td>Omicron</td>\n",
              "      <td>0</td>\n",
              "      <td>218</td>\n",
              "      <td>1337.827515</td>\n",
              "      <td>2024.177490</td>\n",
              "      <td>3778.701904</td>\n",
              "      <td>GDS-CALIB_STRAIN</td>\n",
              "      <td>9.762940e-22</td>\n",
              "      <td>15.37104</td>\n",
              "      <td>0</td>\n",
              "      <td>0</td>\n",
              "      <td>0</td>\n",
              "      <td>phase</td>\n",
              "      <td>-0.83099</td>\n",
              "      <td>zKCTakFVcf</td>\n",
              "      <td>Whistle</td>\n",
              "      <td>train</td>\n",
              "      <td>https://panoptes-uploads.zooniverse.org/produc...</td>\n",
              "      <td>https://panoptes-uploads.zooniverse.org/produc...</td>\n",
              "      <td>https://panoptes-uploads.zooniverse.org/produc...</td>\n",
              "      <td>https://panoptes-uploads.zooniverse.org/produc...</td>\n",
              "    </tr>\n",
              "    <tr>\n",
              "      <th>3</th>\n",
              "      <td>1.132637e+09</td>\n",
              "      <td>L1</td>\n",
              "      <td>1132636755</td>\n",
              "      <td>365233898</td>\n",
              "      <td>1132636754</td>\n",
              "      <td>951172113</td>\n",
              "      <td>0.82422</td>\n",
              "      <td>Omicron</td>\n",
              "      <td>0</td>\n",
              "      <td>88</td>\n",
              "      <td>1182.974609</td>\n",
              "      <td>3981.774658</td>\n",
              "      <td>7492.717773</td>\n",
              "      <td>GDS-CALIB_STRAIN</td>\n",
              "      <td>1.462120e-22</td>\n",
              "      <td>10.32116</td>\n",
              "      <td>0</td>\n",
              "      <td>0</td>\n",
              "      <td>0</td>\n",
              "      <td>phase</td>\n",
              "      <td>0.76242</td>\n",
              "      <td>z14BdoiFZS</td>\n",
              "      <td>Whistle</td>\n",
              "      <td>validation</td>\n",
              "      <td>https://panoptes-uploads.zooniverse.org/produc...</td>\n",
              "      <td>https://panoptes-uploads.zooniverse.org/produc...</td>\n",
              "      <td>https://panoptes-uploads.zooniverse.org/produc...</td>\n",
              "      <td>https://panoptes-uploads.zooniverse.org/produc...</td>\n",
              "    </tr>\n",
              "    <tr>\n",
              "      <th>4</th>\n",
              "      <td>1.132036e+09</td>\n",
              "      <td>L1</td>\n",
              "      <td>1132035853</td>\n",
              "      <td>197264909</td>\n",
              "      <td>1132035852</td>\n",
              "      <td>933837890</td>\n",
              "      <td>2.00366</td>\n",
              "      <td>Omicron</td>\n",
              "      <td>0</td>\n",
              "      <td>16</td>\n",
              "      <td>1456.511353</td>\n",
              "      <td>3979.026855</td>\n",
              "      <td>7942.912109</td>\n",
              "      <td>GDS-CALIB_STRAIN</td>\n",
              "      <td>4.038300e-22</td>\n",
              "      <td>14.38016</td>\n",
              "      <td>0</td>\n",
              "      <td>0</td>\n",
              "      <td>0</td>\n",
              "      <td>phase</td>\n",
              "      <td>-0.31161</td>\n",
              "      <td>yyjqLCtAmO</td>\n",
              "      <td>Whistle</td>\n",
              "      <td>validation</td>\n",
              "      <td>https://panoptes-uploads.zooniverse.org/produc...</td>\n",
              "      <td>https://panoptes-uploads.zooniverse.org/produc...</td>\n",
              "      <td>https://panoptes-uploads.zooniverse.org/produc...</td>\n",
              "      <td>https://panoptes-uploads.zooniverse.org/produc...</td>\n",
              "    </tr>\n",
              "  </tbody>\n",
              "</table>\n",
              "</div>"
            ],
            "text/plain": [
              "     event_time  ...                                               url4\n",
              "0  1.134216e+09  ...  https://panoptes-uploads.zooniverse.org/produc...\n",
              "1  1.129360e+09  ...  https://panoptes-uploads.zooniverse.org/produc...\n",
              "2  1.127425e+09  ...  https://panoptes-uploads.zooniverse.org/produc...\n",
              "3  1.132637e+09  ...  https://panoptes-uploads.zooniverse.org/produc...\n",
              "4  1.132036e+09  ...  https://panoptes-uploads.zooniverse.org/produc...\n",
              "\n",
              "[5 rows x 28 columns]"
            ]
          },
          "metadata": {
            "tags": []
          },
          "execution_count": 8
        }
      ]
    },
    {
      "cell_type": "code",
      "metadata": {
        "id": "Ayt6oU7WeCyC",
        "colab_type": "code",
        "colab": {
          "base_uri": "https://localhost:8080/",
          "height": 435
        },
        "outputId": "0e2dcd0b-2080-4706-cc6a-be3297f66d8b"
      },
      "source": [
        "df.label.value_counts()\n"
      ],
      "execution_count": 9,
      "outputs": [
        {
          "output_type": "execute_result",
          "data": {
            "text/plain": [
              "Blip                   1821\n",
              "Koi_Fish                706\n",
              "Low_Frequency_Burst     621\n",
              "Light_Modulation        512\n",
              "Power_Line              449\n",
              "Low_Frequency_Lines     447\n",
              "Extremely_Loud          447\n",
              "Scattered_Light         443\n",
              "Violin_Mode             412\n",
              "Scratchy                337\n",
              "1080Lines               328\n",
              "Whistle                 299\n",
              "Helix                   279\n",
              "Repeating_Blips         263\n",
              "No_Glitch               150\n",
              "Tomte                   103\n",
              "None_of_the_Above        81\n",
              "1400Ripples              81\n",
              "Chirp                    60\n",
              "Air_Compressor           58\n",
              "Wandering_Line           42\n",
              "Paired_Doves             27\n",
              "Name: label, dtype: int64"
            ]
          },
          "metadata": {
            "tags": []
          },
          "execution_count": 9
        }
      ]
    },
    {
      "cell_type": "code",
      "metadata": {
        "id": "dgCLalFJBR4c",
        "colab_type": "code",
        "colab": {
          "base_uri": "https://localhost:8080/",
          "height": 144
        },
        "outputId": "7d3a6631-1c8e-4783-e18f-ec64fb6090af"
      },
      "source": [
        "classes_list=df.label.value_counts().index\n",
        "print(classes_list)"
      ],
      "execution_count": 10,
      "outputs": [
        {
          "output_type": "stream",
          "text": [
            "Index(['Blip', 'Koi_Fish', 'Low_Frequency_Burst', 'Light_Modulation',\n",
            "       'Power_Line', 'Low_Frequency_Lines', 'Extremely_Loud',\n",
            "       'Scattered_Light', 'Violin_Mode', 'Scratchy', '1080Lines', 'Whistle',\n",
            "       'Helix', 'Repeating_Blips', 'No_Glitch', 'Tomte', 'None_of_the_Above',\n",
            "       '1400Ripples', 'Chirp', 'Air_Compressor', 'Wandering_Line',\n",
            "       'Paired_Doves'],\n",
            "      dtype='object')\n"
          ],
          "name": "stdout"
        }
      ]
    },
    {
      "cell_type": "code",
      "metadata": {
        "id": "fj7KHhfL-u7F",
        "colab_type": "code",
        "colab": {
          "base_uri": "https://localhost:8080/",
          "height": 53
        },
        "outputId": "14fdaa0f-6a3b-4585-e506-0dc9fd047223"
      },
      "source": [
        "training_batch_size = 64\n",
        "validation_batch_size = 32\n",
        "img_dim = 250\n",
        "\n",
        "train_generator = tf.keras.preprocessing.image_dataset_from_directory(\n",
        "  train_dir,\n",
        "  validation_split=0.2,\n",
        "  subset=\"training\",\n",
        "  seed=123,\n",
        "  image_size=(img_dim,img_dim),\n",
        "  batch_size=training_batch_size)\n",
        "\n",
        "#cant invert or rotate or do variations due to the distortion which can be caused to the image\n"
      ],
      "execution_count": 11,
      "outputs": [
        {
          "output_type": "stream",
          "text": [
            "Found 22348 files belonging to 22 classes.\n",
            "Using 17879 files for training.\n"
          ],
          "name": "stdout"
        }
      ]
    },
    {
      "cell_type": "code",
      "metadata": {
        "id": "jUr2CUToBviu",
        "colab_type": "code",
        "colab": {
          "base_uri": "https://localhost:8080/",
          "height": 53
        },
        "outputId": "ce394b76-96f8-4d19-c68d-98c404ee10e2"
      },
      "source": [
        "validation_generator = tf.keras.preprocessing.image_dataset_from_directory(\n",
        "  validation_dir,\n",
        "  validation_split=0.2,\n",
        "  subset=\"validation\",\n",
        "  seed=123,\n",
        "  image_size=(img_dim, img_dim),\n",
        "  batch_size=validation_batch_size)\n"
      ],
      "execution_count": 12,
      "outputs": [
        {
          "output_type": "stream",
          "text": [
            "Found 4800 files belonging to 22 classes.\n",
            "Using 960 files for validation.\n"
          ],
          "name": "stdout"
        }
      ]
    },
    {
      "cell_type": "code",
      "metadata": {
        "id": "Pk8SuONXDYYp",
        "colab_type": "code",
        "colab": {
          "base_uri": "https://localhost:8080/",
          "height": 55
        },
        "outputId": "7fef7cad-85bc-4a4d-ad68-0656e93e42ff"
      },
      "source": [
        "class_names = train_generator.class_names\n",
        "print(class_names)\n"
      ],
      "execution_count": 13,
      "outputs": [
        {
          "output_type": "stream",
          "text": [
            "['1080Lines', '1400Ripples', 'Air_Compressor', 'Blip', 'Chirp', 'Extremely_Loud', 'Helix', 'Koi_Fish', 'Light_Modulation', 'Low_Frequency_Burst', 'Low_Frequency_Lines', 'No_Glitch', 'None_of_the_Above', 'Paired_Doves', 'Power_Line', 'Repeating_Blips', 'Scattered_Light', 'Scratchy', 'Tomte', 'Violin_Mode', 'Wandering_Line', 'Whistle']\n"
          ],
          "name": "stdout"
        }
      ]
    },
    {
      "cell_type": "code",
      "metadata": {
        "id": "t_tdXOfFcgdh",
        "colab_type": "code",
        "colab": {
          "base_uri": "https://localhost:8080/",
          "height": 53
        },
        "outputId": "060a3e76-48f0-4c0c-d0af-cca23048b13c"
      },
      "source": [
        "for image_batch, labels_batch in train_generator:\n",
        "  print(image_batch.shape)\n",
        "  print(labels_batch.shape)\n",
        "  break\n"
      ],
      "execution_count": 14,
      "outputs": [
        {
          "output_type": "stream",
          "text": [
            "(64, 250, 250, 3)\n",
            "(64,)\n"
          ],
          "name": "stdout"
        }
      ]
    },
    {
      "cell_type": "code",
      "metadata": {
        "id": "JlnG2H9kcpSN",
        "colab_type": "code",
        "colab": {}
      },
      "source": [
        "normalization_layer = layers.experimental.preprocessing.Rescaling(1./255)\n"
      ],
      "execution_count": 15,
      "outputs": []
    },
    {
      "cell_type": "code",
      "metadata": {
        "id": "nM4EmcUBc0NW",
        "colab_type": "code",
        "colab": {
          "base_uri": "https://localhost:8080/",
          "height": 35
        },
        "outputId": "132d8900-42ce-4818-898d-ce97d8e67388"
      },
      "source": [
        "normalized_ds = train_generator.map(lambda x, y: (normalization_layer(x), y))\n",
        "image_batch, labels_batch = next(iter(normalized_ds))\n",
        "first_image = image_batch[0]\n",
        "# Notice the pixels values are now in `[0,1]`.\n",
        "print(np.min(first_image), np.max(first_image))"
      ],
      "execution_count": 16,
      "outputs": [
        {
          "output_type": "stream",
          "text": [
            "0.0 0.9921569\n"
          ],
          "name": "stdout"
        }
      ]
    },
    {
      "cell_type": "code",
      "metadata": {
        "id": "pI9u8sXNdYQY",
        "colab_type": "code",
        "colab": {}
      },
      "source": [
        "num_classes = 22\n",
        "\n",
        "model = Sequential([\n",
        "  layers.experimental.preprocessing.Rescaling(1./255, input_shape=(img_dim, img_dim, 3)),\n",
        "  layers.Conv2D(128, 5, padding='same', activation='relu'),\n",
        "  layers.MaxPooling2D(),\n",
        "  layers.Conv2D(128, 5, padding='same', activation='relu'),\n",
        "  layers.MaxPooling2D(),\n",
        "  layers.Flatten(),\n",
        "  layers.Dense(256, activation='relu'),\n",
        "  layers.Dense(num_classes)\n",
        "])\n"
      ],
      "execution_count": 17,
      "outputs": []
    },
    {
      "cell_type": "code",
      "metadata": {
        "id": "AQQyuqe1dsK5",
        "colab_type": "code",
        "colab": {}
      },
      "source": [
        "model.compile(optimizer='adam',\n",
        "              loss=tf.keras.losses.SparseCategoricalCrossentropy(from_logits=True),\n",
        "              metrics=['accuracy'])\n"
      ],
      "execution_count": 18,
      "outputs": []
    },
    {
      "cell_type": "code",
      "metadata": {
        "id": "CIVy5nOwdwX2",
        "colab_type": "code",
        "colab": {
          "base_uri": "https://localhost:8080/",
          "height": 453
        },
        "outputId": "7e77a31a-7a57-4439-e38b-5b309a96a05e"
      },
      "source": [
        "model.summary()\n"
      ],
      "execution_count": 19,
      "outputs": [
        {
          "output_type": "stream",
          "text": [
            "Model: \"sequential\"\n",
            "_________________________________________________________________\n",
            "Layer (type)                 Output Shape              Param #   \n",
            "=================================================================\n",
            "rescaling_1 (Rescaling)      (None, 250, 250, 3)       0         \n",
            "_________________________________________________________________\n",
            "conv2d (Conv2D)              (None, 250, 250, 128)     9728      \n",
            "_________________________________________________________________\n",
            "max_pooling2d (MaxPooling2D) (None, 125, 125, 128)     0         \n",
            "_________________________________________________________________\n",
            "conv2d_1 (Conv2D)            (None, 125, 125, 128)     409728    \n",
            "_________________________________________________________________\n",
            "max_pooling2d_1 (MaxPooling2 (None, 62, 62, 128)       0         \n",
            "_________________________________________________________________\n",
            "flatten (Flatten)            (None, 492032)            0         \n",
            "_________________________________________________________________\n",
            "dense (Dense)                (None, 256)               125960448 \n",
            "_________________________________________________________________\n",
            "dense_1 (Dense)              (None, 22)                5654      \n",
            "=================================================================\n",
            "Total params: 126,385,558\n",
            "Trainable params: 126,385,558\n",
            "Non-trainable params: 0\n",
            "_________________________________________________________________\n"
          ],
          "name": "stdout"
        }
      ]
    },
    {
      "cell_type": "code",
      "metadata": {
        "id": "xidZ7VgEdyVu",
        "colab_type": "code",
        "colab": {
          "base_uri": "https://localhost:8080/",
          "height": 380
        },
        "outputId": "761e7076-aa96-496d-984a-64b74c9083a6"
      },
      "source": [
        "epochs=10\n",
        "history = model.fit(\n",
        "  train_generator,\n",
        "  validation_data=validation_generator,\n",
        "  epochs=epochs\n",
        ")\n"
      ],
      "execution_count": 20,
      "outputs": [
        {
          "output_type": "stream",
          "text": [
            "Epoch 1/10\n",
            "280/280 [==============================] - 358s 1s/step - loss: 0.7812 - accuracy: 0.8348 - val_loss: 0.2729 - val_accuracy: 0.9094\n",
            "Epoch 2/10\n",
            "280/280 [==============================] - 352s 1s/step - loss: 0.1630 - accuracy: 0.9543 - val_loss: 0.2702 - val_accuracy: 0.9240\n",
            "Epoch 3/10\n",
            "280/280 [==============================] - 349s 1s/step - loss: 0.0954 - accuracy: 0.9737 - val_loss: 0.3155 - val_accuracy: 0.9323\n",
            "Epoch 4/10\n",
            "280/280 [==============================] - 349s 1s/step - loss: 0.0703 - accuracy: 0.9810 - val_loss: 0.3216 - val_accuracy: 0.9312\n",
            "Epoch 5/10\n",
            "280/280 [==============================] - 350s 1s/step - loss: 0.0650 - accuracy: 0.9843 - val_loss: 0.3736 - val_accuracy: 0.9281\n",
            "Epoch 6/10\n",
            "280/280 [==============================] - 346s 1s/step - loss: 0.0564 - accuracy: 0.9856 - val_loss: 0.4707 - val_accuracy: 0.9333\n",
            "Epoch 7/10\n",
            "280/280 [==============================] - 345s 1s/step - loss: 0.0474 - accuracy: 0.9886 - val_loss: 0.4347 - val_accuracy: 0.9177\n",
            "Epoch 8/10\n",
            "280/280 [==============================] - 350s 1s/step - loss: 0.0429 - accuracy: 0.9897 - val_loss: 0.5324 - val_accuracy: 0.9187\n",
            "Epoch 9/10\n",
            "280/280 [==============================] - 358s 1s/step - loss: 0.0617 - accuracy: 0.9853 - val_loss: 0.3822 - val_accuracy: 0.9365\n",
            "Epoch 10/10\n",
            "280/280 [==============================] - 358s 1s/step - loss: 0.0387 - accuracy: 0.9902 - val_loss: 0.4046 - val_accuracy: 0.9302\n"
          ],
          "name": "stdout"
        }
      ]
    },
    {
      "cell_type": "code",
      "metadata": {
        "id": "aEpOH8TRszU6",
        "colab_type": "code",
        "colab": {
          "base_uri": "https://localhost:8080/",
          "height": 35
        },
        "outputId": "43edba55-d5d8-4af1-f8fa-ca820718c487"
      },
      "source": [
        "\n",
        "test_generator = tf.keras.preprocessing.image_dataset_from_directory(\n",
        "  test_dir,\n",
        "  subset=None,\n",
        "  seed=123,\n",
        "  image_size=(img_dim,img_dim),\n",
        "  label_mode='int',\n",
        "  batch_size=training_batch_size)"
      ],
      "execution_count": 57,
      "outputs": [
        {
          "output_type": "stream",
          "text": [
            "Found 4720 files belonging to 22 classes.\n"
          ],
          "name": "stdout"
        }
      ]
    },
    {
      "cell_type": "code",
      "metadata": {
        "id": "xivKpb1yumc5",
        "colab_type": "code",
        "colab": {
          "base_uri": "https://localhost:8080/",
          "height": 35
        },
        "outputId": "ce1a174c-fc75-4f17-aae5-678fd40375de"
      },
      "source": [
        "\n",
        "predictions = model.predict(test_generator, steps = 74, verbose = 1)"
      ],
      "execution_count": 58,
      "outputs": [
        {
          "output_type": "stream",
          "text": [
            "74/74 [==============================] - 50s 669ms/step\n"
          ],
          "name": "stdout"
        }
      ]
    },
    {
      "cell_type": "code",
      "metadata": {
        "id": "W8lu6nXV7XZ3",
        "colab_type": "code",
        "colab": {
          "base_uri": "https://localhost:8080/",
          "height": 53
        },
        "outputId": "b16f651d-0d05-4a4d-aec7-9660fb456586"
      },
      "source": [
        "model.evaluate(test_generator,steps=74)"
      ],
      "execution_count": 59,
      "outputs": [
        {
          "output_type": "stream",
          "text": [
            "74/74 [==============================] - 50s 670ms/step - loss: 0.4697 - accuracy: 0.9343\n"
          ],
          "name": "stdout"
        },
        {
          "output_type": "execute_result",
          "data": {
            "text/plain": [
              "[0.46967050433158875, 0.9343220591545105]"
            ]
          },
          "metadata": {
            "tags": []
          },
          "execution_count": 59
        }
      ]
    },
    {
      "cell_type": "code",
      "metadata": {
        "id": "Dy-SFxMm7eQq",
        "colab_type": "code",
        "colab": {}
      },
      "source": [
        ""
      ],
      "execution_count": null,
      "outputs": []
    }
  ]
}